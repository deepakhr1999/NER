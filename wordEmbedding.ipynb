{
 "cells": [
  {
   "cell_type": "code",
   "execution_count": 1,
   "metadata": {},
   "outputs": [],
   "source": [
    "import torch\n",
    "from torch import nn\n",
    "from models.utils import param, reverse_packed_sequence, Namespace, packCharsWithMask, pad_sequence, pad_packed_sequence, pack_padded_sequence\n",
    "from torch.nn.utils.rnn import PackedSequence\n",
    "from models.networks import DeepTransitionRNN, CNNEmbedding, SequenceLabelingEncoder"
   ]
  },
  {
   "cell_type": "code",
   "execution_count": 2,
   "metadata": {},
   "outputs": [],
   "source": [
    "wordEmbedding = 20 # 300\n",
    "charEmbedding = 20 # 128\n",
    "contextOutputUnits = outputUnits = 70\n",
    "numWords = 10\n",
    "numChars = 10\n",
    "numTags = 17\n",
    "contextTransitionNumber = transitionNumber = 3\n",
    "maxLen = 5\n",
    "encoderUnits = decoderUnits = 50"
   ]
  },
  {
   "cell_type": "code",
   "execution_count": 3,
   "metadata": {},
   "outputs": [
    {
     "name": "stdout",
     "output_type": "stream",
     "text": [
      "torch.Size([5]) torch.Size([5, 6]) torch.Size([5, 6, 1])\n",
      "lengths are:  [3, 2]\n",
      "PackedSequence(data=tensor([2, 6, 3, 2, 1]), batch_sizes=tensor([2, 2, 1]), sorted_indices=tensor([0, 1]), unsorted_indices=tensor([0, 1]))\n"
     ]
    }
   ],
   "source": [
    "#max chars in word is 6\n",
    "s1 = [\n",
    "    [1, 2, 3],\n",
    "    [4, 3],\n",
    "    [5, 2, 2, 3, 7, 6],\n",
    "]\n",
    "\n",
    "\n",
    "s2 = [\n",
    "    [4, 3, 1, 6, 2],\n",
    "    [1, 2, 3],\n",
    "]\n",
    "\n",
    "\n",
    "# the packed sequence removes word axis padding, custom mask handles char axis padding\n",
    "x, mask = packCharsWithMask([s1, s2])\n",
    "\n",
    "w = [\n",
    "    [2, 3, 1],\n",
    "    [6, 2]\n",
    "]\n",
    "\n",
    "l = [len(s) for s in w]\n",
    "w = [torch.LongTensor(s) for s in w]\n",
    "w = pad_sequence(w)\n",
    "w = pack_padded_sequence(w, l, enforce_sorted=False)\n",
    "print(w.data.shape, x.data.shape, mask.shape)\n",
    "print(\"lengths are: \", l)\n",
    "print(w)"
   ]
  },
  {
   "cell_type": "code",
   "execution_count": 4,
   "metadata": {},
   "outputs": [
    {
     "name": "stdout",
     "output_type": "stream",
     "text": [
      "torch.Size([5, 180])\n"
     ]
    }
   ],
   "source": [
    "class GlobalContextualEncoder(nn.Module):\n",
    "    def __init__(self, numChars, charEmbedding, numWords, wordEmbedding, outputUnits, transitionNumber):\n",
    "        super().__init__()\n",
    "        self.cnn = CNNEmbedding(numChars, charEmbedding)\n",
    "        self.glove = nn.Embedding(numWords, wordEmbedding)\n",
    "        \n",
    "        encoderInputUnits = wordEmbedding + charEmbedding\n",
    "        self.forwardEncoder  = DeepTransitionRNN(encoderInputUnits, outputUnits, transitionNumber)\n",
    "        self.backwardEncoder = DeepTransitionRNN(encoderInputUnits, outputUnits, transitionNumber)\n",
    "        \n",
    "    def forward(self, words, chars, charMask):\n",
    "        _, *args = words\n",
    "        \n",
    "        w = self.glove(words.data)\n",
    "        c = self.cnn(chars, charMask)\n",
    "        \n",
    "        # word and char concat, pass through encoder and we get directional global context\n",
    "        wc = torch.cat([w, c.data], dim=-1)\n",
    "        forwardInput  = PackedSequence( wc, *args )\n",
    "        forwardG  = self.forwardEncoder(forwardInput)\n",
    "        \n",
    "        backwardInput = reverse_packed_sequence(forwardInput)      \n",
    "        backwardG = self.backwardEncoder(backwardInput)\n",
    "        backwardG = reverse_packed_sequence(backwardG)\n",
    "        \n",
    "        nonDirectionalG = torch.cat([forwardG.data, backwardG.data], dim=-1)\n",
    "        \n",
    "        # mean pooling is done by padding with zeros, taking timewise sum and dividing by lengths\n",
    "        nonDirectionalG = PackedSequence(nonDirectionalG, *args)\n",
    "        nonDirectionalG, lens = pad_packed_sequence(nonDirectionalG)\n",
    "        lens = torch.unsqueeze(torch.unsqueeze(lens, -1), 0)\n",
    "        nonDirectionalG_sum = nonDirectionalG.sum(dim=0, keepdim=True)\n",
    "        g = nonDirectionalG_sum / lens\n",
    "        \n",
    "        # need to broadcast g and concat with wc\n",
    "        new_shape = [nonDirectionalG.data.shape[0] // g.shape[0]] + [-1] * (len(g.shape) - 1)\n",
    "        g = pack_padded_sequence(g.expand(*new_shape), lens[0,:, 0])\n",
    "        \n",
    "        wcg = torch.cat([g.data, wc], dim=-1)\n",
    "        wcg = PackedSequence(wcg, *args)\n",
    "        return wcg\n",
    "\n",
    "    \n",
    "model = GlobalContextualEncoder(numChars, charEmbedding, numWords, wordEmbedding, outputUnits, transitionNumber)\n",
    "g = model(w, x, mask)\n",
    "print(g.data.shape)"
   ]
  },
  {
   "cell_type": "code",
   "execution_count": 5,
   "metadata": {},
   "outputs": [
    {
     "name": "stdout",
     "output_type": "stream",
     "text": [
      "180 180\n",
      "torch.Size([3, 2, 17]) tensor([3, 2])\n"
     ]
    }
   ],
   "source": [
    "class GlobalContextualDeepTransition(nn.Module):\n",
    "    def __init__(self, numChars, charEmbedding, numWords,\n",
    "                     wordEmbedding, contextOutputUnits, contextTransitionNumber,\n",
    "                        encoderUnits, decoderUnits, transitionNumber, numTags):\n",
    "        super().__init__()\n",
    "        self.contextEncoder = GlobalContextualEncoder(numChars, charEmbedding, numWords,\n",
    "                                                          wordEmbedding, contextOutputUnits, contextTransitionNumber)\n",
    "        self.labellerInput = wordEmbedding + charEmbedding + 2 * contextOutputUnits # units in g\n",
    "        self.sequenceLabeller = SequenceLabelingEncoder(self.labellerInput, encoderUnits, decoderUnits, transitionNumber, numTags)\n",
    "        \n",
    "    def forward(self, words, chars, charMask):\n",
    "        wcg = self.contextEncoder(words, chars, charMask)\n",
    "        \n",
    "        print(wcg.data.shape[-1], self.labellerInput)\n",
    "        out = self.sequenceLabeller(wcg, reverse_packed_sequence(wcg))\n",
    "        return out\n",
    "\n",
    "model = GlobalContextualDeepTransition(numChars, charEmbedding, numWords,\n",
    "                     wordEmbedding, contextOutputUnits, contextTransitionNumber,\n",
    "                        encoderUnits, decoderUnits, transitionNumber, numTags)\n",
    "y = model(w, x, mask)\n",
    "data, *args = y\n",
    "y, lens = pad_packed_sequence(y)\n",
    "print(y.shape, lens)"
   ]
  }
 ],
 "metadata": {
  "kernelspec": {
   "display_name": "Python 3",
   "language": "python",
   "name": "python3"
  },
  "language_info": {
   "codemirror_mode": {
    "name": "ipython",
    "version": 3
   },
   "file_extension": ".py",
   "mimetype": "text/x-python",
   "name": "python",
   "nbconvert_exporter": "python",
   "pygments_lexer": "ipython3",
   "version": "3.7.7"
  }
 },
 "nbformat": 4,
 "nbformat_minor": 4
}
