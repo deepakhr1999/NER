{
 "cells": [
  {
   "cell_type": "code",
   "execution_count": 1,
   "metadata": {},
   "outputs": [],
   "source": [
    "import torch\n",
    "from torch import nn\n",
    "from models.utils import param, reverse_packed_sequence, Namespace, packCharsWithMask, pad_sequence, pad_packed_sequence, pack_padded_sequence\n",
    "from torch.nn.utils.rnn import PackedSequence\n",
    "from models.networks import GlobalContextualDeepTransition\n",
    "import pytorch_lightning as pl\n",
    "import torch.nn.functional as F"
   ]
  },
  {
   "cell_type": "code",
   "execution_count": 2,
   "metadata": {},
   "outputs": [],
   "source": [
    "wordEmbedding = 20 # 300\n",
    "charEmbedding = 20 # 128\n",
    "contextOutputUnits = outputUnits = 70\n",
    "numWords = 10\n",
    "numChars = 10\n",
    "numTags = 17\n",
    "contextTransitionNumber = transitionNumber = 3\n",
    "maxLen = 5\n",
    "encoderUnits = decoderUnits = 50"
   ]
  },
  {
   "cell_type": "code",
   "execution_count": 3,
   "metadata": {},
   "outputs": [
    {
     "name": "stdout",
     "output_type": "stream",
     "text": [
      "torch.Size([5]) torch.Size([5, 6]) torch.Size([5, 6, 1]) torch.Size([5, 17])\n",
      "lengths are:  [3, 2]\n",
      "tensor([[0., 0., 0., 0., 1., 0., 0., 0., 0., 0., 0., 0., 0., 0., 0., 0., 0.],\n",
      "        [0., 0., 0., 0., 0., 0., 0., 0., 0., 1., 0., 0., 0., 0., 0., 0., 0.],\n",
      "        [0., 0., 0., 0., 0., 0., 0., 0., 0., 0., 0., 0., 1., 0., 0., 0., 0.],\n",
      "        [0., 0., 0., 0., 0., 0., 0., 0., 0., 0., 0., 0., 0., 1., 0., 0., 0.],\n",
      "        [0., 0., 0., 1., 0., 0., 0., 0., 0., 0., 0., 0., 0., 0., 0., 0., 0.]])\n"
     ]
    }
   ],
   "source": [
    "#max chars in word is 6\n",
    "s1 = [\n",
    "    [1, 2, 3],\n",
    "    [4, 3],\n",
    "    [5, 2, 2, 3, 7, 6],\n",
    "]\n",
    "\n",
    "\n",
    "s2 = [\n",
    "    [4, 3, 1, 6, 2],\n",
    "    [1, 2, 3],\n",
    "]\n",
    "\n",
    "\n",
    "# the packed sequence removes word axis padding, custom mask handles char axis padding\n",
    "x, mask = packCharsWithMask([s1, s2])\n",
    "\n",
    "w = [\n",
    "    [2, 3, 1],\n",
    "    [6, 2]\n",
    "]\n",
    "\n",
    "l = [len(s) for s in w]\n",
    "w = [torch.LongTensor(s) for s in w]\n",
    "w = pad_sequence(w)\n",
    "w = pack_padded_sequence(w, l, enforce_sorted=False)\n",
    "\n",
    "_, *args = w\n",
    "m = w.data.size(0)\n",
    "sparse = torch.randint(numTags, (m, ) )\n",
    "targets = torch.zeros(m, numTags)\n",
    "targets[torch.arange(m),sparse] = 1\n",
    "targets = PackedSequence(targets, *args)\n",
    "\n",
    "print(w.data.shape, x.data.shape, mask.shape, targets.data.shape)\n",
    "print(\"lengths are: \", l)\n",
    "print(targets.data)"
   ]
  },
  {
   "cell_type": "code",
   "execution_count": 4,
   "metadata": {},
   "outputs": [
    {
     "name": "stdout",
     "output_type": "stream",
     "text": [
      "2.930936098098755\n"
     ]
    }
   ],
   "source": [
    "model = GlobalContextualDeepTransition(numChars, charEmbedding, numWords,\n",
    "                     wordEmbedding, contextOutputUnits, contextTransitionNumber,\n",
    "                        encoderUnits, numTags, transitionNumber)\n",
    "\n",
    "batch = w, x, mask, targets\n",
    "loss = model.training_step(batch, 0)\n",
    "\n",
    "print(loss.item())"
   ]
  }
 ],
 "metadata": {
  "kernelspec": {
   "display_name": "Python 3",
   "language": "python",
   "name": "python3"
  },
  "language_info": {
   "codemirror_mode": {
    "name": "ipython",
    "version": 3
   },
   "file_extension": ".py",
   "mimetype": "text/x-python",
   "name": "python",
   "nbconvert_exporter": "python",
   "pygments_lexer": "ipython3",
   "version": "3.7.7"
  }
 },
 "nbformat": 4,
 "nbformat_minor": 4
}
