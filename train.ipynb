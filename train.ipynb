{
 "cells": [
  {
   "cell_type": "code",
   "execution_count": 1,
   "metadata": {},
   "outputs": [],
   "source": [
    "import os\n",
    "import json\n",
    "from data.dataset import NERDataset\n",
    "from models.networks import GlobalContextualDeepTransition\n",
    "import pytorch_lightning as pl\n",
    "from pytorch_lightning.callbacks import ModelCheckpoint, Callback"
   ]
  },
  {
   "cell_type": "code",
   "execution_count": 2,
   "metadata": {},
   "outputs": [],
   "source": [
    "base = 'data/conll03'\n",
    "sourceName = f'{base}/eng.train.src'\n",
    "targetName = f'{base}/eng.train.trg'\n",
    "gloveFile = f'{base}/trimmed.300d.Cased.txt'\n",
    "symbFile = f'{base}/sym.glove'\n",
    "prevCheckpoint = 'lightning_logs/version_7/epoch=502-step=24938.ckpt'\n",
    "data = NERDataset(sourceName, targetName, gloveFile, symbFile)\n",
    "loader = data.getLoader(4096)"
   ]
  },
  {
   "cell_type": "code",
   "execution_count": 3,
   "metadata": {},
   "outputs": [
    {
     "name": "stdout",
     "output_type": "stream",
     "text": [
      "Init model params = {\n",
      "    \"numChars\": 100,\n",
      "    \"charEmbedding\": 128,\n",
      "    \"numWords\": 21388,\n",
      "    \"wordEmbedding\": 300,\n",
      "    \"contextOutputUnits\": 128,\n",
      "    \"contextTransitionNumber\": 4,\n",
      "    \"encoderUnits\": 256,\n",
      "    \"decoderUnits\": 256,\n",
      "    \"transitionNumber\": 4,\n",
      "    \"numTags\": 17\n",
      "}\n",
      "Trainable parameters: 7,313,341\n"
     ]
    }
   ],
   "source": [
    "with open('config.json', 'r') as file:\n",
    "    kwargs = json.load(file)\n",
    "print(\"Init model params =\", json.dumps(kwargs, indent=4))\n",
    "model = GlobalContextualDeepTransition(**kwargs)\n",
    "model.init_weights(data.embeddingWeights)\n",
    "\n",
    "numParams = sum(p.numel() for p in model.parameters() if p.requires_grad)\n",
    "print(f\"Trainable parameters: {numParams:,}\") # 7,313,34"
   ]
  },
  {
   "cell_type": "code",
   "execution_count": 4,
   "metadata": {},
   "outputs": [],
   "source": [
    "class SaveEachEpoch(Callback):\n",
    "    def __init__(self, dirpath, filename, period):\n",
    "        super().__init__()\n",
    "        self.dirpath = dirpath\n",
    "        self.filename = filename\n",
    "        self.period = period\n",
    "        \n",
    "    def on_epoch_end(self, trainer, pl_module):\n",
    "        if trainer.current_epoch % self.period == 0:\n",
    "            path = os.path.join(self.dirpath, self.filename).format(epoch=trainer.current_epoch)\n",
    "            print(\"Saving at\", path)\n",
    "            trainer.save_checkpoint(path)"
   ]
  },
  {
   "cell_type": "code",
   "execution_count": null,
   "metadata": {},
   "outputs": [
    {
     "name": "stderr",
     "output_type": "stream",
     "text": [
      "GPU available: True, used: True\n",
      "TPU available: False, using: 0 TPU cores\n",
      "LOCAL_RANK: 0 - CUDA_VISIBLE_DEVICES: [0]\n",
      "\n",
      "  | Name             | Type                           | Params\n",
      "--------------------------------------------------------------------\n",
      "0 | contextEncoder   | GlobalContextualEncoder        | 7 M   \n",
      "1 | sequenceLabeller | SequenceLabelingEncoderDecoder | 6 M   \n"
     ]
    },
    {
     "data": {
      "application/vnd.jupyter.widget-view+json": {
       "model_id": "a03a1948a2ea474ca1aa774f4ac9df60",
       "version_major": 2,
       "version_minor": 0
      },
      "text/plain": [
       "HBox(children=(FloatProgress(value=1.0, bar_style='info', description='Training', layout=Layout(flex='2'), max…"
      ]
     },
     "metadata": {},
     "output_type": "display_data"
    }
   ],
   "source": [
    "ckpt = SaveEachEpoch(\n",
    "    dirpath='lightning_logs/backup/',\n",
    "    filename='ckpt-{epoch:02d}',\n",
    "    period=5\n",
    ")\n",
    "\n",
    "trainer = pl.Trainer(resume_from_checkpoint=prevCheckpoint, callbacks=[ckpt],\n",
    "                        gradient_clip_val=5., gpus=1, max_epochs=2000, default_root_dir=base)\n",
    "trainer.fit(model, loader)"
   ]
  },
  {
   "cell_type": "code",
   "execution_count": null,
   "metadata": {},
   "outputs": [],
   "source": []
  }
 ],
 "metadata": {
  "kernelspec": {
   "display_name": "Python 3",
   "language": "python",
   "name": "python3"
  },
  "language_info": {
   "codemirror_mode": {
    "name": "ipython",
    "version": 3
   },
   "file_extension": ".py",
   "mimetype": "text/x-python",
   "name": "python",
   "nbconvert_exporter": "python",
   "pygments_lexer": "ipython3",
   "version": "3.7.7"
  }
 },
 "nbformat": 4,
 "nbformat_minor": 4
}
