{
 "cells": [
  {
   "cell_type": "code",
   "execution_count": 1,
   "metadata": {},
   "outputs": [],
   "source": [
    "import torch\n",
    "from models.networks import CNNEmbedding\n",
    "from models.utils import packCharsWithMask"
   ]
  },
  {
   "cell_type": "code",
   "execution_count": 2,
   "metadata": {},
   "outputs": [
    {
     "name": "stdout",
     "output_type": "stream",
     "text": [
      "Input\n",
      "[[1 2 3 0 0]\n",
      " [4 3 0 0 0]\n",
      " [1 2 3 0 0]\n",
      " [4 3 1 6 2]]\n",
      "\n",
      "Output\n",
      "[[ 0.37057504  0.6678283   0.7527622 ]\n",
      " [-0.3555143   0.10169128  0.437469  ]\n",
      " [ 0.37057504  0.6678283   0.7527622 ]\n",
      " [ 0.04258546  0.49077216  0.6276345 ]]\n"
     ]
    }
   ],
   "source": [
    "s1 = [\n",
    "    [1, 2, 3],\n",
    "    [4, 3],\n",
    "    [5, 2, 2, 3],\n",
    "]\n",
    "\n",
    "s2 = [\n",
    "    [1, 2, 3],\n",
    "    [4, 3, 1, 6, 2],\n",
    "]\n",
    "\n",
    "NUM_CHARS = 7\n",
    "EMBEDDING_DIM = 3\n",
    "    \n",
    "model = CNNEmbedding(NUM_CHARS, EMBEDDING_DIM)\n",
    "\n",
    "x, mask = packCharsWithMask([s1, s2])\n",
    "print(\"Input\")\n",
    "print(x.data.numpy())\n",
    "\n",
    "with torch.no_grad():\n",
    "    y = model(x, mask)\n",
    "    \n",
    "print(\"\\nOutput\")\n",
    "print(y.data.numpy())"
   ]
  }
 ],
 "metadata": {
  "kernelspec": {
   "display_name": "Python 3",
   "language": "python",
   "name": "python3"
  },
  "language_info": {
   "codemirror_mode": {
    "name": "ipython",
    "version": 3
   },
   "file_extension": ".py",
   "mimetype": "text/x-python",
   "name": "python",
   "nbconvert_exporter": "python",
   "pygments_lexer": "ipython3",
   "version": "3.7.7"
  }
 },
 "nbformat": 4,
 "nbformat_minor": 4
}
