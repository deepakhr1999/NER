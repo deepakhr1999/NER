{
 "cells": [
  {
   "cell_type": "code",
   "execution_count": 1,
   "metadata": {},
   "outputs": [],
   "source": [
    "import torch\n",
    "from torch.nn.utils.rnn import pad_packed_sequence, pack_padded_sequence, pad_sequence\n",
    "from models.networks import CNNEmbedding\n",
    "from models.utils import packCharsWithMask"
   ]
  },
  {
   "cell_type": "code",
   "execution_count": 2,
   "metadata": {},
   "outputs": [
    {
     "name": "stdout",
     "output_type": "stream",
     "text": [
      "Input (Packed)\n",
      "[[1 2 3 0 0]\n",
      " [4 3 1 6 2]\n",
      " [4 3 0 0 0]\n",
      " [1 2 3 0 0]\n",
      " [5 2 2 3 0]]\n",
      "\n",
      "Mask\n",
      "[[0 0 0 1 1]\n",
      " [0 0 0 0 0]\n",
      " [0 0 1 1 1]\n",
      " [0 0 0 1 1]\n",
      " [0 0 0 0 1]]\n",
      "\n",
      "Output (Packed)\n",
      "[[ 0.8804787  -0.12565537  1.0057945 ]\n",
      " [ 0.5860801   0.36556995  0.63799185]\n",
      " [ 0.21783246 -0.20901467  0.31337976]\n",
      " [ 0.8804787  -0.12565537  1.0057945 ]\n",
      " [ 0.5940787   0.1700411   0.8562769 ]]\n",
      "\n",
      "Output (Padded)\n",
      "[[[ 0.8804787  -0.12565537  1.0057945 ]\n",
      "  [ 0.21783246 -0.20901467  0.31337976]\n",
      "  [ 0.5940787   0.1700411   0.8562769 ]]\n",
      "\n",
      " [[ 0.5860801   0.36556995  0.63799185]\n",
      "  [ 0.8804787  -0.12565537  1.0057945 ]\n",
      "  [ 0.          0.          0.        ]]]\n"
     ]
    }
   ],
   "source": [
    "s1 = [\n",
    "    [1, 2, 3],\n",
    "    [4, 3],\n",
    "    [5, 2, 2, 3],\n",
    "]\n",
    "\n",
    "s2 = [\n",
    "    [4, 3, 1, 6, 2],\n",
    "    [1, 2, 3],\n",
    "]\n",
    "\n",
    "NUM_CHARS = 7\n",
    "EMBEDDING_DIM = 3\n",
    "    \n",
    "model = CNNEmbedding(NUM_CHARS, EMBEDDING_DIM)\n",
    "\n",
    "x, mask = packCharsWithMask([s1, s2])\n",
    "\n",
    "print(\"Input (Packed)\")\n",
    "print(x.data.numpy())\n",
    "\n",
    "print(\"\\nMask\")\n",
    "print(((mask.numpy() == -1e9) * 1)[...,0])\n",
    "\n",
    "with torch.no_grad():\n",
    "    y = model(x, mask)\n",
    "    \n",
    "print(\"\\nOutput (Packed)\")\n",
    "print(y.data.numpy())\n",
    "\n",
    "print(\"\\nOutput (Padded)\")\n",
    "r, lengths = pad_packed_sequence(y)\n",
    "print(r.permute(1, 0, 2).numpy())"
   ]
  }
 ],
 "metadata": {
  "kernelspec": {
   "display_name": "Python 3",
   "language": "python",
   "name": "python3"
  },
  "language_info": {
   "codemirror_mode": {
    "name": "ipython",
    "version": 3
   },
   "file_extension": ".py",
   "mimetype": "text/x-python",
   "name": "python",
   "nbconvert_exporter": "python",
   "pygments_lexer": "ipython3",
   "version": "3.7.7"
  }
 },
 "nbformat": 4,
 "nbformat_minor": 4
}
