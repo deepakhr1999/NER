{
 "cells": [
  {
   "cell_type": "code",
   "execution_count": 1,
   "metadata": {},
   "outputs": [],
   "source": [
    "import torch\n",
    "from torch import nn\n",
    "from torch.nn.utils.rnn import pad_packed_sequence, pack_padded_sequence, pad_sequence\n",
    "from models.networks import CNNEmbedding"
   ]
  },
  {
   "cell_type": "code",
   "execution_count": 2,
   "metadata": {},
   "outputs": [
    {
     "name": "stdout",
     "output_type": "stream",
     "text": [
      "torch.Size([3, 128])\n",
      "torch.Size([3, 128])\n",
      "torch.Size([3, 128])\n",
      "torch.Size([3, 128])\n",
      "torch.Size([3, 128])\n"
     ]
    }
   ],
   "source": [
    "NUM_CHARS = 93\n",
    "EMBEDDING_DIM = 128\n",
    "    \n",
    "model = CNNEmbedding(NUM_CHARS, EMBEDDING_DIM)\n",
    "\n",
    "# input shape [words chars]-> [words units]\n",
    "\n",
    "# input shape is [batch_size, words, chars] -> [b, w, u] with cnn\n",
    "\n",
    "u = []\n",
    "for i in range(5):\n",
    "    x = [[1, 2, 3, 4], [2,3,7], [2, 4, 1]]\n",
    "    x = [torch.LongTensor(s) for s in x]\n",
    "    x = pad_sequence(x, batch_first=True, padding_value=0)\n",
    "    u.append(x)\n",
    "\n",
    "for sentence in u:\n",
    "    y = model(sentence)\n",
    "    print(y.shape)"
   ]
  }
 ],
 "metadata": {
  "kernelspec": {
   "display_name": "Python 3",
   "language": "python",
   "name": "python3"
  },
  "language_info": {
   "codemirror_mode": {
    "name": "ipython",
    "version": 3
   },
   "file_extension": ".py",
   "mimetype": "text/x-python",
   "name": "python",
   "nbconvert_exporter": "python",
   "pygments_lexer": "ipython3",
   "version": "3.7.7"
  }
 },
 "nbformat": 4,
 "nbformat_minor": 4
}
