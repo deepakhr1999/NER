{
 "cells": [
  {
   "cell_type": "code",
   "execution_count": 1,
   "metadata": {},
   "outputs": [],
   "source": [
    "import torch\n",
    "from torch import nn\n",
    "from models.networks import GlobalContextualDeepTransition\n",
    "from models.utils import sample_sequence, pad_packed_sequence"
   ]
  },
  {
   "cell_type": "code",
   "execution_count": 2,
   "metadata": {},
   "outputs": [],
   "source": [
    "LENGTHS = [5, 3, 4, 2]\n",
    "INPUT_UNITS = 300\n",
    "ENCODER_UNITS = 128\n",
    "DECODER_UNITS = 256\n",
    "OUTPUT_UNITS = 3\n",
    "TRANSITION_LENGTH = 4"
   ]
  },
  {
   "cell_type": "code",
   "execution_count": 3,
   "metadata": {},
   "outputs": [],
   "source": [
    "model = GlobalContextualDeepTransition(INPUT_UNITS, ENCODER_UNITS, DECODER_UNITS, TRANSITION_LENGTH, OUTPUT_UNITS)\n",
    "seq, req = sample_sequence(INPUT_UNITS, LENGTHS)\n",
    "outputs = model(seq, req)"
   ]
  },
  {
   "cell_type": "code",
   "execution_count": 4,
   "metadata": {},
   "outputs": [
    {
     "name": "stdout",
     "output_type": "stream",
     "text": [
      "tensor([5, 3, 4, 2])\n",
      "tensor([[[0.3607, 0.2622, 0.3771],\n",
      "         [0.1129, 0.4447, 0.4424],\n",
      "         [0.4100, 0.3693, 0.2207],\n",
      "         [0.4938, 0.3382, 0.1680],\n",
      "         [0.4703, 0.2745, 0.2552]],\n",
      "\n",
      "        [[0.3537, 0.4559, 0.1903],\n",
      "         [0.3856, 0.1869, 0.4275],\n",
      "         [0.5828, 0.1617, 0.2555],\n",
      "         [0.0000, 0.0000, 0.0000],\n",
      "         [0.0000, 0.0000, 0.0000]],\n",
      "\n",
      "        [[0.4115, 0.3041, 0.2844],\n",
      "         [0.1522, 0.4710, 0.3769],\n",
      "         [0.3236, 0.2290, 0.4473],\n",
      "         [0.2705, 0.4538, 0.2757],\n",
      "         [0.0000, 0.0000, 0.0000]],\n",
      "\n",
      "        [[0.3240, 0.3408, 0.3352],\n",
      "         [0.3646, 0.4096, 0.2258],\n",
      "         [0.0000, 0.0000, 0.0000],\n",
      "         [0.0000, 0.0000, 0.0000],\n",
      "         [0.0000, 0.0000, 0.0000]]], grad_fn=<PermuteBackward>)\n"
     ]
    }
   ],
   "source": [
    "outputs, lengths = pad_packed_sequence(outputs) # t b u -> b t u\n",
    "print(lengths)\n",
    "print(outputs.permute(1, 0, 2))"
   ]
  },
  {
   "cell_type": "code",
   "execution_count": 5,
   "metadata": {},
   "outputs": [
    {
     "name": "stdout",
     "output_type": "stream",
     "text": [
      "The encoder-decoder model has 2,285,315 parameters\n"
     ]
    }
   ],
   "source": [
    "x = sum(p.numel() for p in model.parameters())\n",
    "print(f'The encoder-decoder model has {x:,} parameters')"
   ]
  }
 ],
 "metadata": {
  "kernelspec": {
   "display_name": "Python 3",
   "language": "python",
   "name": "python3"
  },
  "language_info": {
   "codemirror_mode": {
    "name": "ipython",
    "version": 3
   },
   "file_extension": ".py",
   "mimetype": "text/x-python",
   "name": "python",
   "nbconvert_exporter": "python",
   "pygments_lexer": "ipython3",
   "version": "3.7.7"
  }
 },
 "nbformat": 4,
 "nbformat_minor": 4
}
