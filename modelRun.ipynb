{
 "cells": [
  {
   "cell_type": "code",
   "execution_count": 1,
   "metadata": {},
   "outputs": [],
   "source": [
    "import torch\n",
    "from torch import nn\n",
    "from models.networks import SequenceLabelingEncoder\n",
    "from models.utils import sample_sequence, pad_packed_sequence"
   ]
  },
  {
   "cell_type": "code",
   "execution_count": 2,
   "metadata": {},
   "outputs": [],
   "source": [
    "LENGTHS = [5, 3, 4, 2]\n",
    "INPUT_UNITS = 300\n",
    "ENCODER_UNITS = 128\n",
    "DECODER_UNITS = 256\n",
    "OUTPUT_UNITS = 3\n",
    "TRANSITION_LENGTH = 4"
   ]
  },
  {
   "cell_type": "code",
   "execution_count": 3,
   "metadata": {},
   "outputs": [],
   "source": [
    "model = SequenceLabelingEncoder(INPUT_UNITS, ENCODER_UNITS, DECODER_UNITS, TRANSITION_LENGTH, OUTPUT_UNITS)\n",
    "seq, req = sample_sequence(INPUT_UNITS, LENGTHS)\n",
    "outputs = model(seq, req)"
   ]
  },
  {
   "cell_type": "code",
   "execution_count": 4,
   "metadata": {},
   "outputs": [
    {
     "name": "stdout",
     "output_type": "stream",
     "text": [
      "tensor([5, 3, 4, 2])\n",
      "tensor([[[0.3437, 0.3685, 0.2878],\n",
      "         [0.2145, 0.4853, 0.3002],\n",
      "         [0.4622, 0.4266, 0.1112],\n",
      "         [0.1972, 0.3207, 0.4821],\n",
      "         [0.1957, 0.2999, 0.5044]],\n",
      "\n",
      "        [[0.2811, 0.4882, 0.2307],\n",
      "         [0.2446, 0.2037, 0.5517],\n",
      "         [0.2068, 0.2617, 0.5315],\n",
      "         [0.0000, 0.0000, 0.0000],\n",
      "         [0.0000, 0.0000, 0.0000]],\n",
      "\n",
      "        [[0.4816, 0.1300, 0.3884],\n",
      "         [0.2099, 0.2564, 0.5338],\n",
      "         [0.1764, 0.3504, 0.4732],\n",
      "         [0.4441, 0.4527, 0.1032],\n",
      "         [0.0000, 0.0000, 0.0000]],\n",
      "\n",
      "        [[0.2535, 0.4124, 0.3341],\n",
      "         [0.4432, 0.1825, 0.3743],\n",
      "         [0.0000, 0.0000, 0.0000],\n",
      "         [0.0000, 0.0000, 0.0000],\n",
      "         [0.0000, 0.0000, 0.0000]]], grad_fn=<PermuteBackward>)\n"
     ]
    }
   ],
   "source": [
    "outputs, lengths = pad_packed_sequence(outputs) # t b u -> b t u\n",
    "print(lengths)\n",
    "print(outputs.permute(1, 0, 2))"
   ]
  },
  {
   "cell_type": "code",
   "execution_count": 5,
   "metadata": {},
   "outputs": [
    {
     "name": "stdout",
     "output_type": "stream",
     "text": [
      "The encoder-decoder model has 2,285,315 parameters\n"
     ]
    }
   ],
   "source": [
    "x = sum(p.numel() for p in model.parameters())\n",
    "print(f'The encoder-decoder model has {x:,} parameters')"
   ]
  }
 ],
 "metadata": {
  "kernelspec": {
   "display_name": "Python 3",
   "language": "python",
   "name": "python3"
  },
  "language_info": {
   "codemirror_mode": {
    "name": "ipython",
    "version": 3
   },
   "file_extension": ".py",
   "mimetype": "text/x-python",
   "name": "python",
   "nbconvert_exporter": "python",
   "pygments_lexer": "ipython3",
   "version": "3.7.7"
  }
 },
 "nbformat": 4,
 "nbformat_minor": 4
}
