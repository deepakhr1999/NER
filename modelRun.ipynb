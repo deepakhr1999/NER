{
 "cells": [
  {
   "cell_type": "code",
   "execution_count": 1,
   "metadata": {},
   "outputs": [],
   "source": [
    "import torch\n",
    "from torch import nn\n",
    "from models.networks import GlobalContextualDeepTransition\n",
    "from models.utils import sample_sequence, pad_packed_sequence"
   ]
  },
  {
   "cell_type": "code",
   "execution_count": 2,
   "metadata": {},
   "outputs": [],
   "source": [
    "LENGTHS = [5, 3, 4, 2]\n",
    "INPUT_UNITS = 300\n",
    "ENCODER_UNITS = 128\n",
    "DECODER_UNITS = 256\n",
    "OUTPUT_UNITS = 3\n",
    "TRANSITION_LENGTH = 4"
   ]
  },
  {
   "cell_type": "code",
   "execution_count": 3,
   "metadata": {},
   "outputs": [],
   "source": [
    "model = GlobalContextualDeepTransition(INPUT_UNITS, ENCODER_UNITS, DECODER_UNITS, TRANSITION_LENGTH, OUTPUT_UNITS)\n",
    "seq, req = sample_sequence(INPUT_UNITS, LENGTHS)\n",
    "outputs = model(seq, req)"
   ]
  },
  {
   "cell_type": "code",
   "execution_count": 4,
   "metadata": {},
   "outputs": [
    {
     "name": "stdout",
     "output_type": "stream",
     "text": [
      "tensor([5, 3, 4, 2])\n",
      "tensor([[[ 0.0702, -0.2220,  0.4252],\n",
      "         [ 0.5801, -0.2577,  0.9527],\n",
      "         [-0.3754,  0.4508, -0.8836],\n",
      "         [-0.5972, -0.2501,  0.9223],\n",
      "         [-0.1064, -0.1981,  0.7893]],\n",
      "\n",
      "        [[-0.7044,  0.0223, -0.7247],\n",
      "         [ 0.0876, -0.7223, -0.4285],\n",
      "         [ 0.1697,  0.4949, -0.1468],\n",
      "         [ 0.0000,  0.0000,  0.0000],\n",
      "         [ 0.0000,  0.0000,  0.0000]],\n",
      "\n",
      "        [[-0.3285,  0.5826,  0.2639],\n",
      "         [-0.1795,  0.4274, -0.3431],\n",
      "         [-1.1322, -0.1675,  0.1704],\n",
      "         [ 0.2928, -0.3433,  0.1543],\n",
      "         [ 0.0000,  0.0000,  0.0000]],\n",
      "\n",
      "        [[-0.0683,  0.0737, -0.2362],\n",
      "         [ 0.0636, -0.0392,  0.5872],\n",
      "         [ 0.0000,  0.0000,  0.0000],\n",
      "         [ 0.0000,  0.0000,  0.0000],\n",
      "         [ 0.0000,  0.0000,  0.0000]]], grad_fn=<PermuteBackward>)\n"
     ]
    }
   ],
   "source": [
    "outputs, lengths = pad_packed_sequence(outputs) # t b u -> b t u\n",
    "print(lengths)\n",
    "print(outputs.permute(1, 0, 2))"
   ]
  },
  {
   "cell_type": "code",
   "execution_count": 5,
   "metadata": {},
   "outputs": [
    {
     "name": "stdout",
     "output_type": "stream",
     "text": [
      "The encoder-decoder model has 2,285,315 parameters\n"
     ]
    }
   ],
   "source": [
    "x = sum(p.numel() for p in model.parameters())\n",
    "print(f'The encoder-decoder model has {x:,} parameters')"
   ]
  }
 ],
 "metadata": {
  "kernelspec": {
   "display_name": "Python 3",
   "language": "python",
   "name": "python3"
  },
  "language_info": {
   "codemirror_mode": {
    "name": "ipython",
    "version": 3
   },
   "file_extension": ".py",
   "mimetype": "text/x-python",
   "name": "python",
   "nbconvert_exporter": "python",
   "pygments_lexer": "ipython3",
   "version": "3.7.7"
  }
 },
 "nbformat": 4,
 "nbformat_minor": 4
}
