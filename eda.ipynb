{
 "cells": [
  {
   "cell_type": "code",
   "execution_count": 1,
   "metadata": {},
   "outputs": [],
   "source": [
    "import matplotlib.pyplot as plt\n",
    "import torch\n",
    "import seaborn as sns\n",
    "import pandas as pd\n",
    "# sns.set_theme()\n",
    "from data.dataset import NERDataset\n",
    "import random"
   ]
  },
  {
   "cell_type": "code",
   "execution_count": 2,
   "metadata": {},
   "outputs": [],
   "source": [
    "base = 'data/conll03'\n",
    "sourceName = f'{base}/eng.train.src'\n",
    "targetName = f'{base}/eng.train.trg'\n",
    "gloveFile = f'{base}/trimmed.300d.Cased.txt'\n",
    "symbFile = f'{base}/sym.glove'\n",
    "testSrc = 'data/conll03/eng.testb.src'\n",
    "testTrg = 'data/conll03/eng.testb.trg'\n",
    "data = NERDataset(sourceName, targetName, gloveFile, symbFile)"
   ]
  },
  {
   "cell_type": "code",
   "execution_count": 3,
   "metadata": {},
   "outputs": [],
   "source": [
    "def printStats(src, unk = data.wordIdx['<unk>']):\n",
    "    numToks = sum(len(w) for w, c, t in data)\n",
    "    numUnk = sum(list(w).count(unk) for w, c, t in data)\n",
    "    print(src, numToks, numUnk)"
   ]
  },
  {
   "cell_type": "code",
   "execution_count": 4,
   "metadata": {},
   "outputs": [
    {
     "name": "stdout",
     "output_type": "stream",
     "text": [
      "train 203621 3910\n",
      "testa 51362 4542\n",
      "testb 46435 5693\n"
     ]
    }
   ],
   "source": [
    "printStats('train')\n",
    "\n",
    "testSrc = 'data/conll03/eng.testa.src'\n",
    "testTrg = 'data/conll03/eng.testa.trg'\n",
    "data.readTestFile(testSrc, testTrg)\n",
    "printStats('testa')\n",
    "\n",
    "testSrc = 'data/conll03/eng.testb.src'\n",
    "testTrg = 'data/conll03/eng.testb.trg'\n",
    "data.readTestFile(testSrc, testTrg)\n",
    "printStats('testb')\n",
    "\n",
    "data = NERDataset(sourceName, targetName, gloveFile, symbFile)"
   ]
  },
  {
   "cell_type": "code",
   "execution_count": 5,
   "metadata": {},
   "outputs": [],
   "source": [
    "def countTags(filename):\n",
    "    count = {}\n",
    "    with open(filename, 'r') as file:\n",
    "        for line in file:\n",
    "            line = line.strip().split()\n",
    "            for tag in line:\n",
    "                if tag not in count:\n",
    "                    count[tag] = 1\n",
    "                else:\n",
    "                    count[tag] += 1\n",
    "    return count"
   ]
  },
  {
   "cell_type": "code",
   "execution_count": 6,
   "metadata": {},
   "outputs": [
    {
     "data": {
      "image/png": "[encoded data removed]",
      "text/plain": [
       "<Figure size 936x720 with 1 Axes>"
      ]
     },
     "metadata": {
      "needs_background": "light"
     },
     "output_type": "display_data"
    }
   ],
   "source": [
    "counts = countTags(targetName)\n",
    "x, y = zip(*counts.items())\n",
    "fig, ax = plt.subplots(figsize=(13,10))\n",
    "ax.barh(x, y)\n",
    "plt.xscale('log')"
   ]
  },
  {
   "cell_type": "code",
   "execution_count": 7,
   "metadata": {},
   "outputs": [
    {
     "data": {
      "text/plain": [
       "Text(0, 0.5, 'Frequencies')"
      ]
     },
     "execution_count": 7,
     "metadata": {},
     "output_type": "execute_result"
    },
    {
     "data": {
      "image/png": "[encoded data removed]",
      "text/plain": [
       "<Figure size 576x576 with 1 Axes>"
      ]
     },
     "metadata": {
      "needs_background": "light"
     },
     "output_type": "display_data"
    }
   ],
   "source": [
    "categories  = 'PER LOC ORG MISC'.split()\n",
    "catIdx = {k:i for i, k in enumerate(categories)}\n",
    "frequencies = [0 for c in categories]\n",
    "for i in range(len(data)):\n",
    "    tar = [data.tags[t][2:] for t in data[i][2] if data.tags[t]!='O' ]\n",
    "    tar = list(set(tar))\n",
    "    for t in tar:\n",
    "        frequencies[catIdx[t]] += 1\n",
    "\n",
    "fig, ax = plt.subplots(figsize=(8,8))\n",
    "ax.bar(categories, frequencies)\n",
    "for px, py in zip(categories, frequencies):\n",
    "    ax.text(px, py - 300, f\"{py:,}\", color='white', ha=\"center\", fontsize=12)\n",
    "#     ax.text(px, 400, px, color='white', ha=\"center\", fontsize=12)\n",
    "for k in ax.spines:\n",
    "    ax.spines[k].set_visible(False)\n",
    "ax.set_yticks([])\n",
    "plt.xticks(fontsize=15)\n",
    "# ax.set_title(\"Histogram of Named Entities\", fontsize=18)\n",
    "ax.set_xlabel(\"Categories\", fontsize=18)\n",
    "ax.set_ylabel(\"Frequencies\", fontsize=18)"
   ]
  },
  {
   "cell_type": "markdown",
   "metadata": {},
   "source": [
    "## Random examples of a class"
   ]
  },
  {
   "cell_type": "code",
   "execution_count": 8,
   "metadata": {},
   "outputs": [],
   "source": [
    "targets = {k:[] for k in data.tags}\n",
    "for i in range(len(data)):\n",
    "    for w, c, t in zip(*data[i]):\n",
    "        targets[data.tags[t]].append(data.words[w])"
   ]
  },
  {
   "cell_type": "code",
   "execution_count": 9,
   "metadata": {},
   "outputs": [
    {
     "name": "stdout",
     "output_type": "stream",
     "text": [
      "B-LOC    The Sri Costa KANSAS South Old <unk> San University Las\n",
      "B-MISC   World Iraqi TOUR 1,000 NATIONAL F.A. Grand Sri HAMLET Grand\n",
      "B-ORG    PF Tallinna SAN Philadelphia Status F.C. Federal Baltika Ministry LOS\n",
      "B-PER    Antonio Gerald Chris Steffi Prince Clarence Karin I.K. Justice Joakim\n",
      "E-LOC    Hospital Freeport Africa Republic States Africa YORK Forest Beach Republic\n",
      "E-MISC   Open African Cup LEAGUE Index India Korean OPEN <unk> Afghan\n",
      "E-ORG    Doetinchem Desk Paulo Villa <unk> Beersheva CSU India Royals <unk>\n",
      "E-PER    Martin Clinton Azharuddin Kiernan Basuki Carling <unk> Hubner Russell Bois\n",
      "I-LOC    Maria School DE York Matthews COLLECTIVE Football Senora East of\n",
      "I-MISC   no Series OF Grand ' : Drug World World Spongiform\n",
      "I-ORG    for KB Food for England Conservation Brothers Information Labour Trade\n",
      "I-PER    Haj van der der Jahan Khaleda Maya Golf De immi\n",
      "O        difficult met The carmaker of group , preferred pardoned out\n",
      "S-LOC    germany China Britain U.S. Ramallah U.S. U.S. DUBLIN Croatia Finland\n",
      "S-MISC   Spanish Kurdish Olympic Western Israeli US$ Bombay English British Bunds\n",
      "S-ORG    Stagecoach Doncaster Lenzing Kawasaki Hull <unk> Prudential Astros Geelong Milwaukee\n",
      "S-PER    Shigeki <unk> Pivotal Smicer Gujral Maskhadov Arafat Moura Mayfair Rubin\n"
     ]
    }
   ],
   "source": [
    "for key in targets:\n",
    "    l = random.choices(targets[key], k=10)\n",
    "    print(key.ljust(8), *l)"
   ]
  },
  {
   "cell_type": "markdown",
   "metadata": {},
   "source": [
    "## Examples of sentences with MISC tags"
   ]
  },
  {
   "cell_type": "code",
   "execution_count": 10,
   "metadata": {},
   "outputs": [
    {
     "name": "stdout",
     "output_type": "stream",
     "text": [
      "O        9.\n",
      "B-PER    Rui\n",
      "E-PER    Madeira\n",
      "O        (\n",
      "S-LOC    Portugal\n",
      "O        )\n",
      "B-MISC   Toyota\n",
      "E-MISC   Celica\n",
      "O        16:34\n"
     ]
    }
   ],
   "source": [
    "for i in torch.randperm(len(data)):\n",
    "    found = any([\"MISC\" in data.tags[t]\n",
    "                     for w, c, t in zip(*data[i]) ])\n",
    "    if found:\n",
    "        for w, c, t in zip(*data[i]):\n",
    "            print(data.tags[t].ljust(8), data.words[w])\n",
    "            found = True\n",
    "        break"
   ]
  },
  {
   "cell_type": "markdown",
   "metadata": {},
   "source": [
    "## Context matrix"
   ]
  },
  {
   "cell_type": "code",
   "execution_count": 11,
   "metadata": {},
   "outputs": [],
   "source": [
    "cols  = 'PER LOC ORG MISC'.split()\n",
    "frame = pd.DataFrame({c:[0]*len(cols) for c in cols}, index=cols)\n",
    "for i in range(len(data)):\n",
    "    tar = [data.tags[t][2:] for t in data[i][2] if data.tags[t]!='O' ]\n",
    "    tar = list(set(tar))\n",
    "    for i in tar:\n",
    "        for j in tar:\n",
    "            if i!=j:\n",
    "                frame[i][j] += 1"
   ]
  },
  {
   "cell_type": "code",
   "execution_count": 12,
   "metadata": {},
   "outputs": [
    {
     "data": {
      "text/html": [
       "<div>\n",
       "<style scoped>\n",
       "    .dataframe tbody tr th:only-of-type {\n",
       "        vertical-align: middle;\n",
       "    }\n",
       "\n",
       "    .dataframe tbody tr th {\n",
       "        vertical-align: top;\n",
       "    }\n",
       "\n",
       "    .dataframe thead th {\n",
       "        text-align: right;\n",
       "    }\n",
       "</style>\n",
       "<table border=\"1\" class=\"dataframe\">\n",
       "  <thead>\n",
       "    <tr style=\"text-align: right;\">\n",
       "      <th></th>\n",
       "      <th>PER</th>\n",
       "      <th>LOC</th>\n",
       "      <th>ORG</th>\n",
       "      <th>MISC</th>\n",
       "    </tr>\n",
       "  </thead>\n",
       "  <tbody>\n",
       "    <tr>\n",
       "      <th>PER</th>\n",
       "      <td>0</td>\n",
       "      <td>2113</td>\n",
       "      <td>1168</td>\n",
       "      <td>918</td>\n",
       "    </tr>\n",
       "    <tr>\n",
       "      <th>LOC</th>\n",
       "      <td>2113</td>\n",
       "      <td>0</td>\n",
       "      <td>1133</td>\n",
       "      <td>1069</td>\n",
       "    </tr>\n",
       "    <tr>\n",
       "      <th>ORG</th>\n",
       "      <td>1168</td>\n",
       "      <td>1133</td>\n",
       "      <td>0</td>\n",
       "      <td>677</td>\n",
       "    </tr>\n",
       "    <tr>\n",
       "      <th>MISC</th>\n",
       "      <td>918</td>\n",
       "      <td>1069</td>\n",
       "      <td>677</td>\n",
       "      <td>0</td>\n",
       "    </tr>\n",
       "  </tbody>\n",
       "</table>\n",
       "</div>"
      ],
      "text/plain": [
       "       PER   LOC   ORG  MISC\n",
       "PER      0  2113  1168   918\n",
       "LOC   2113     0  1133  1069\n",
       "ORG   1168  1133     0   677\n",
       "MISC   918  1069   677     0"
      ]
     },
     "execution_count": 12,
     "metadata": {},
     "output_type": "execute_result"
    }
   ],
   "source": [
    "frame"
   ]
  },
  {
   "cell_type": "code",
   "execution_count": 13,
   "metadata": {},
   "outputs": [
    {
     "data": {
      "text/plain": [
       "(array([0.5, 1.5, 2.5, 3.5]), <a list of 4 Text major ticklabel objects>)"
      ]
     },
     "execution_count": 13,
     "metadata": {},
     "output_type": "execute_result"
    },
    {
     "data": {
      "image/png": "[encoded data removed]",
      "text/plain": [
       "<Figure size 720x720 with 1 Axes>"
      ]
     },
     "metadata": {
      "needs_background": "light"
     },
     "output_type": "display_data"
    }
   ],
   "source": [
    "fig, ax = plt.subplots(figsize=(10,10))\n",
    "sns.heatmap(frame, annot=True, ax=ax, fmt='', cmap='Blues', annot_kws={\"size\": 15}, cbar=False)\n",
    "ax.set_xlabel('Entities', fontsize=15)\n",
    "ax.set_ylabel('Context', fontsize=15)\n",
    "plt.xticks(fontsize=16)\n",
    "plt.yticks(fontsize=16)"
   ]
  },
  {
   "cell_type": "code",
   "execution_count": null,
   "metadata": {},
   "outputs": [],
   "source": []
  }
 ],
 "metadata": {
  "kernelspec": {
   "display_name": "Python 3",
   "language": "python",
   "name": "python3"
  },
  "language_info": {
   "codemirror_mode": {
    "name": "ipython",
    "version": 3
   },
   "file_extension": ".py",
   "mimetype": "text/x-python",
   "name": "python",
   "nbconvert_exporter": "python",
   "pygments_lexer": "ipython3",
   "version": "3.7.7"
  }
 },
 "nbformat": 4,
 "nbformat_minor": 4
}
