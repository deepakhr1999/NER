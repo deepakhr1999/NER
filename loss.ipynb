{
 "cells": [
  {
   "cell_type": "code",
   "execution_count": 1,
   "metadata": {},
   "outputs": [],
   "source": [
    "from data.dataset import NERDataset\n",
    "from models.networks import GlobalContextualDeepTransition\n",
    "from tqdm.notebook import tqdm\n",
    "import torch"
   ]
  },
  {
   "cell_type": "code",
   "execution_count": 2,
   "metadata": {},
   "outputs": [],
   "source": [
    "sourceName = 'data/conll03/eng.train.src'\n",
    "targetName = 'data/conll03/eng.train.trg'\n",
    "data = NERDataset(sourceName, targetName)\n",
    "loader = data.getLoader(4096)"
   ]
  },
  {
   "cell_type": "code",
   "execution_count": 3,
   "metadata": {},
   "outputs": [
    {
     "data": {
      "text/plain": [
       "(23624, 23625)"
      ]
     },
     "execution_count": 3,
     "metadata": {},
     "output_type": "execute_result"
    }
   ],
   "source": [
    "max(data.wordIdx.values()), len(data.wordIdx)"
   ]
  },
  {
   "cell_type": "code",
   "execution_count": 4,
   "metadata": {},
   "outputs": [],
   "source": [
    "numChars = 100\n",
    "charEmbedding = 128\n",
    "numWords = len(data.wordIdx)\n",
    "wordEmbedding = 300\n",
    "contextOutputUnits = 128\n",
    "contextTransitionNumber = transitionNumber = 4\n",
    "encoderUnits = 256\n",
    "decoderUnits = 256"
   ]
  },
  {
   "cell_type": "code",
   "execution_count": 5,
   "metadata": {},
   "outputs": [
    {
     "name": "stdout",
     "output_type": "stream",
     "text": [
      "Trainable parameters: 6,788,497\n"
     ]
    }
   ],
   "source": [
    "model = GlobalContextualDeepTransition(numChars, charEmbedding, numWords,\n",
    "                     wordEmbedding, contextOutputUnits, contextTransitionNumber,\n",
    "                        encoderUnits, decoderUnits, transitionNumber, data.numTags)\n",
    "numParams = sum(p.numel() for p in model.parameters() if p.requires_grad)\n",
    "print(f\"Trainable parameters: {numParams:,}\")\n",
    "# 6,774,656"
   ]
  },
  {
   "cell_type": "code",
   "execution_count": 6,
   "metadata": {},
   "outputs": [],
   "source": [
    "# x = model.parameters()\n",
    "# y = model.state_dict().items()\n",
    "\n",
    "# for (key, value), par in zip(y, x):\n",
    "#     if par.requires_grad:\n",
    "#         print(par.numel())"
   ]
  },
  {
   "cell_type": "code",
   "execution_count": 7,
   "metadata": {},
   "outputs": [
    {
     "data": {
      "application/vnd.jupyter.widget-view+json": {
       "model_id": "99dedccc0a194935a6c7fcff8849695e",
       "version_major": 2,
       "version_minor": 0
      },
      "text/plain": [
       "HBox(children=(FloatProgress(value=0.0, max=50.0), HTML(value='')))"
      ]
     },
     "metadata": {},
     "output_type": "display_data"
    },
    {
     "name": "stdout",
     "output_type": "stream",
     "text": [
      "\n"
     ]
    }
   ],
   "source": [
    "model = model.putOnCuda()\n",
    "tot = 0\n",
    "for batch in tqdm(loader):\n",
    "    words, chars, mask, targets = batch\n",
    "    batch = words.cuda(), chars.cuda(), mask.cuda(), targets.cuda()\n",
    "    loss = model.training_step(batch, 0)\n",
    "    tot += loss.item()"
   ]
  },
  {
   "cell_type": "code",
   "execution_count": 8,
   "metadata": {},
   "outputs": [
    {
     "name": "stdout",
     "output_type": "stream",
     "text": [
      "Total loss is 142.85319709777832\n"
     ]
    }
   ],
   "source": [
    "print(f'Total loss is {tot}')"
   ]
  }
 ],
 "metadata": {
  "kernelspec": {
   "display_name": "Python 3",
   "language": "python",
   "name": "python3"
  },
  "language_info": {
   "codemirror_mode": {
    "name": "ipython",
    "version": 3
   },
   "file_extension": ".py",
   "mimetype": "text/x-python",
   "name": "python",
   "nbconvert_exporter": "python",
   "pygments_lexer": "ipython3",
   "version": "3.7.7"
  }
 },
 "nbformat": 4,
 "nbformat_minor": 4
}
