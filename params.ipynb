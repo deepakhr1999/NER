{
 "cells": [
  {
   "cell_type": "code",
   "execution_count": 1,
   "metadata": {},
   "outputs": [],
   "source": [
    "import os\n",
    "import json\n",
    "from data.dataset import NERDataset\n",
    "from models.networks import GlobalContextualDeepTransition\n",
    "import pytorch_lightning as pl\n",
    "from pytorch_lightning.callbacks import ModelCheckpoint, Callback"
   ]
  },
  {
   "cell_type": "code",
   "execution_count": 2,
   "metadata": {},
   "outputs": [
    {
     "name": "stdout",
     "output_type": "stream",
     "text": [
      "Init model params = {\n",
      "    \"numChars\": 100,\n",
      "    \"charEmbedding\": 128,\n",
      "    \"numWords\": 21388,\n",
      "    \"wordEmbedding\": 300,\n",
      "    \"contextOutputUnits\": 128,\n",
      "    \"contextTransitionNumber\": 4,\n",
      "    \"encoderUnits\": 256,\n",
      "    \"decoderUnits\": 256,\n",
      "    \"transitionNumber\": 4,\n",
      "    \"numTags\": 17\n",
      "}\n"
     ]
    }
   ],
   "source": [
    "with open('config.json', 'r') as file:\n",
    "    kwargs = json.load(file)\n",
    "print(\"Init model params =\", json.dumps(kwargs, indent=4))\n",
    "model = GlobalContextualDeepTransition(**kwargs)"
   ]
  },
  {
   "cell_type": "code",
   "execution_count": 3,
   "metadata": {},
   "outputs": [
    {
     "name": "stdout",
     "output_type": "stream",
     "text": [
      "Trainable parameters: 7,443,797\n"
     ]
    }
   ],
   "source": [
    "numParams = sum(p.numel() for p in model.parameters() if p.requires_grad)\n",
    "print(f\"Trainable parameters: {numParams:,}\") # 7,443,753"
   ]
  },
  {
   "cell_type": "code",
   "execution_count": 4,
   "metadata": {},
   "outputs": [
    {
     "name": "stdout",
     "output_type": "stream",
     "text": [
      "0/weight                                                        shape (256, 556)   142336\n",
      "0/bias                                                          shape (256,)       256\n",
      "3/weight                                                        shape (17, 256)    4352\n",
      "3/bias                                                          shape (17,)        17\n"
     ]
    }
   ],
   "source": [
    "for k, v in model.sequenceLabeller.output.state_dict().items():\n",
    "    print(k.ljust(63).replace('.', '/'), 'shape', str(v.numpy().shape).ljust(12), v.numel())"
   ]
  },
  {
   "cell_type": "code",
   "execution_count": null,
   "metadata": {},
   "outputs": [],
   "source": []
  }
 ],
 "metadata": {
  "kernelspec": {
   "display_name": "Python 3",
   "language": "python",
   "name": "python3"
  },
  "language_info": {
   "codemirror_mode": {
    "name": "ipython",
    "version": 3
   },
   "file_extension": ".py",
   "mimetype": "text/x-python",
   "name": "python",
   "nbconvert_exporter": "python",
   "pygments_lexer": "ipython3",
   "version": "3.7.7"
  }
 },
 "nbformat": 4,
 "nbformat_minor": 4
}
