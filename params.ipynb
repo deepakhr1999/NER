{
 "cells": [
  {
   "cell_type": "code",
   "execution_count": 1,
   "metadata": {},
   "outputs": [],
   "source": [
    "import os\n",
    "import json\n",
    "from data.dataset import NERDataset\n",
    "from models.networks import GlobalContextualDeepTransition\n",
    "import pytorch_lightning as pl\n",
    "from pytorch_lightning.callbacks import ModelCheckpoint, Callback"
   ]
  },
  {
   "cell_type": "code",
   "execution_count": 2,
   "metadata": {},
   "outputs": [
    {
     "name": "stdout",
     "output_type": "stream",
     "text": [
      "Init model params = {\n",
      "    \"numChars\": 100,\n",
      "    \"charEmbedding\": 128,\n",
      "    \"numWords\": 21388,\n",
      "    \"wordEmbedding\": 300,\n",
      "    \"contextOutputUnits\": 128,\n",
      "    \"contextTransitionNumber\": 4,\n",
      "    \"encoderUnits\": 256,\n",
      "    \"decoderUnits\": 256,\n",
      "    \"transitionNumber\": 4,\n",
      "    \"numTags\": 17\n",
      "}\n"
     ]
    }
   ],
   "source": [
    "with open('config.json', 'r') as file:\n",
    "    kwargs = json.load(file)\n",
    "print(\"Init model params =\", json.dumps(kwargs, indent=4))\n",
    "model = GlobalContextualDeepTransition(**kwargs)"
   ]
  },
  {
   "cell_type": "code",
   "execution_count": 3,
   "metadata": {},
   "outputs": [
    {
     "name": "stdout",
     "output_type": "stream",
     "text": [
      "Trainable parameters: 7,443,753\n"
     ]
    }
   ],
   "source": [
    "numParams = sum(p.numel() for p in model.parameters() if p.requires_grad)\n",
    "print(f\"Trainable parameters: {numParams:,}\") # 7,313,34"
   ]
  },
  {
   "cell_type": "code",
   "execution_count": 4,
   "metadata": {},
   "outputs": [
    {
     "name": "stdout",
     "output_type": "stream",
     "text": [
      "gloveBias                                                       shape (1, 300)     300\n",
      "cnn/embedding/weight                                            shape (100, 128)   12800\n",
      "cnn/conv1d/weight                                               shape (128, 128, 3) 49152\n",
      "cnn/conv1d/bias                                                 shape (128,)       128\n",
      "outerCnn/embedding/weight                                       shape (100, 128)   12800\n",
      "outerCnn/conv1d/weight                                          shape (128, 128, 3) 49152\n",
      "outerCnn/conv1d/bias                                            shape (128,)       128\n",
      "glove/weight                                                    shape (21388, 300) 6416400\n",
      "forwardEncoder/linearGRU/reset_gate                             shape (556, 128)   71168\n",
      "forwardEncoder/linearGRU/update_gate                            shape (556, 128)   71168\n",
      "forwardEncoder/linearGRU/linear_gate                            shape (556, 128)   71168\n",
      "forwardEncoder/linearGRU/linear_transform                       shape (428, 128)   54784\n",
      "forwardEncoder/linearGRU/Cx                                     shape (428, 128)   54784\n",
      "forwardEncoder/linearGRU/reset_norm/weight                      shape (128,)       128\n",
      "forwardEncoder/linearGRU/reset_norm/bias                        shape (128,)       128\n",
      "forwardEncoder/linearGRU/update_norm/weight                     shape (128,)       128\n",
      "forwardEncoder/linearGRU/update_norm/bias                       shape (128,)       128\n",
      "forwardEncoder/linearGRU/linear_norm/weight                     shape (128,)       128\n",
      "forwardEncoder/linearGRU/linear_norm/bias                       shape (128,)       128\n",
      "forwardEncoder/linearGRU/Ch/weight                              shape (128, 128)   16384\n",
      "forwardEncoder/linearGRU/Ch/bias                                shape (128,)       128\n",
      "forwardEncoder/transitionGRU/0/reset_gate                       shape (128, 128)   16384\n",
      "forwardEncoder/transitionGRU/0/update_gate                      shape (128, 128)   16384\n",
      "forwardEncoder/transitionGRU/0/reset_norm/weight                shape (128,)       128\n",
      "forwardEncoder/transitionGRU/0/reset_norm/bias                  shape (128,)       128\n",
      "forwardEncoder/transitionGRU/0/update_norm/weight               shape (128,)       128\n",
      "forwardEncoder/transitionGRU/0/update_norm/bias                 shape (128,)       128\n",
      "forwardEncoder/transitionGRU/0/candidate_gate/weight            shape (128, 128)   16384\n",
      "forwardEncoder/transitionGRU/0/candidate_gate/bias              shape (128,)       128\n",
      "forwardEncoder/transitionGRU/1/reset_gate                       shape (128, 128)   16384\n",
      "forwardEncoder/transitionGRU/1/update_gate                      shape (128, 128)   16384\n",
      "forwardEncoder/transitionGRU/1/reset_norm/weight                shape (128,)       128\n",
      "forwardEncoder/transitionGRU/1/reset_norm/bias                  shape (128,)       128\n",
      "forwardEncoder/transitionGRU/1/update_norm/weight               shape (128,)       128\n",
      "forwardEncoder/transitionGRU/1/update_norm/bias                 shape (128,)       128\n",
      "forwardEncoder/transitionGRU/1/candidate_gate/weight            shape (128, 128)   16384\n",
      "forwardEncoder/transitionGRU/1/candidate_gate/bias              shape (128,)       128\n",
      "forwardEncoder/transitionGRU/2/reset_gate                       shape (128, 128)   16384\n",
      "forwardEncoder/transitionGRU/2/update_gate                      shape (128, 128)   16384\n",
      "forwardEncoder/transitionGRU/2/reset_norm/weight                shape (128,)       128\n",
      "forwardEncoder/transitionGRU/2/reset_norm/bias                  shape (128,)       128\n",
      "forwardEncoder/transitionGRU/2/update_norm/weight               shape (128,)       128\n",
      "forwardEncoder/transitionGRU/2/update_norm/bias                 shape (128,)       128\n",
      "forwardEncoder/transitionGRU/2/candidate_gate/weight            shape (128, 128)   16384\n",
      "forwardEncoder/transitionGRU/2/candidate_gate/bias              shape (128,)       128\n",
      "forwardEncoder/transitionGRU/3/reset_gate                       shape (128, 128)   16384\n",
      "forwardEncoder/transitionGRU/3/update_gate                      shape (128, 128)   16384\n",
      "forwardEncoder/transitionGRU/3/reset_norm/weight                shape (128,)       128\n",
      "forwardEncoder/transitionGRU/3/reset_norm/bias                  shape (128,)       128\n",
      "forwardEncoder/transitionGRU/3/update_norm/weight               shape (128,)       128\n",
      "forwardEncoder/transitionGRU/3/update_norm/bias                 shape (128,)       128\n",
      "forwardEncoder/transitionGRU/3/candidate_gate/weight            shape (128, 128)   16384\n",
      "forwardEncoder/transitionGRU/3/candidate_gate/bias              shape (128,)       128\n",
      "backwardEncoder/linearGRU/reset_gate                            shape (556, 128)   71168\n",
      "backwardEncoder/linearGRU/update_gate                           shape (556, 128)   71168\n",
      "backwardEncoder/linearGRU/linear_gate                           shape (556, 128)   71168\n",
      "backwardEncoder/linearGRU/linear_transform                      shape (428, 128)   54784\n",
      "backwardEncoder/linearGRU/Cx                                    shape (428, 128)   54784\n",
      "backwardEncoder/linearGRU/reset_norm/weight                     shape (128,)       128\n",
      "backwardEncoder/linearGRU/reset_norm/bias                       shape (128,)       128\n",
      "backwardEncoder/linearGRU/update_norm/weight                    shape (128,)       128\n",
      "backwardEncoder/linearGRU/update_norm/bias                      shape (128,)       128\n",
      "backwardEncoder/linearGRU/linear_norm/weight                    shape (128,)       128\n",
      "backwardEncoder/linearGRU/linear_norm/bias                      shape (128,)       128\n",
      "backwardEncoder/linearGRU/Ch/weight                             shape (128, 128)   16384\n",
      "backwardEncoder/linearGRU/Ch/bias                               shape (128,)       128\n",
      "backwardEncoder/transitionGRU/0/reset_gate                      shape (128, 128)   16384\n",
      "backwardEncoder/transitionGRU/0/update_gate                     shape (128, 128)   16384\n",
      "backwardEncoder/transitionGRU/0/reset_norm/weight               shape (128,)       128\n",
      "backwardEncoder/transitionGRU/0/reset_norm/bias                 shape (128,)       128\n",
      "backwardEncoder/transitionGRU/0/update_norm/weight              shape (128,)       128\n",
      "backwardEncoder/transitionGRU/0/update_norm/bias                shape (128,)       128\n",
      "backwardEncoder/transitionGRU/0/candidate_gate/weight           shape (128, 128)   16384\n",
      "backwardEncoder/transitionGRU/0/candidate_gate/bias             shape (128,)       128\n",
      "backwardEncoder/transitionGRU/1/reset_gate                      shape (128, 128)   16384\n",
      "backwardEncoder/transitionGRU/1/update_gate                     shape (128, 128)   16384\n",
      "backwardEncoder/transitionGRU/1/reset_norm/weight               shape (128,)       128\n",
      "backwardEncoder/transitionGRU/1/reset_norm/bias                 shape (128,)       128\n",
      "backwardEncoder/transitionGRU/1/update_norm/weight              shape (128,)       128\n",
      "backwardEncoder/transitionGRU/1/update_norm/bias                shape (128,)       128\n",
      "backwardEncoder/transitionGRU/1/candidate_gate/weight           shape (128, 128)   16384\n",
      "backwardEncoder/transitionGRU/1/candidate_gate/bias             shape (128,)       128\n",
      "backwardEncoder/transitionGRU/2/reset_gate                      shape (128, 128)   16384\n",
      "backwardEncoder/transitionGRU/2/update_gate                     shape (128, 128)   16384\n",
      "backwardEncoder/transitionGRU/2/reset_norm/weight               shape (128,)       128\n",
      "backwardEncoder/transitionGRU/2/reset_norm/bias                 shape (128,)       128\n",
      "backwardEncoder/transitionGRU/2/update_norm/weight              shape (128,)       128\n",
      "backwardEncoder/transitionGRU/2/update_norm/bias                shape (128,)       128\n",
      "backwardEncoder/transitionGRU/2/candidate_gate/weight           shape (128, 128)   16384\n",
      "backwardEncoder/transitionGRU/2/candidate_gate/bias             shape (128,)       128\n",
      "backwardEncoder/transitionGRU/3/reset_gate                      shape (128, 128)   16384\n",
      "backwardEncoder/transitionGRU/3/update_gate                     shape (128, 128)   16384\n",
      "backwardEncoder/transitionGRU/3/reset_norm/weight               shape (128,)       128\n",
      "backwardEncoder/transitionGRU/3/reset_norm/bias                 shape (128,)       128\n",
      "backwardEncoder/transitionGRU/3/update_norm/weight              shape (128,)       128\n",
      "backwardEncoder/transitionGRU/3/update_norm/bias                shape (128,)       128\n",
      "backwardEncoder/transitionGRU/3/candidate_gate/weight           shape (128, 128)   16384\n",
      "backwardEncoder/transitionGRU/3/candidate_gate/bias             shape (128,)       128\n"
     ]
    }
   ],
   "source": [
    "for k, v in model.contextEncoder.state_dict().items():\n",
    "    print(k.ljust(63).replace('.', '/'), 'shape', str(v.numpy().shape).ljust(12), v.numel())"
   ]
  },
  {
   "cell_type": "code",
   "execution_count": null,
   "metadata": {},
   "outputs": [],
   "source": []
  }
 ],
 "metadata": {
  "kernelspec": {
   "display_name": "Python 3",
   "language": "python",
   "name": "python3"
  },
  "language_info": {
   "codemirror_mode": {
    "name": "ipython",
    "version": 3
   },
   "file_extension": ".py",
   "mimetype": "text/x-python",
   "name": "python",
   "nbconvert_exporter": "python",
   "pygments_lexer": "ipython3",
   "version": "3.7.7"
  }
 },
 "nbformat": 4,
 "nbformat_minor": 4
}
