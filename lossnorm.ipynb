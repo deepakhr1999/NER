{
 "cells": [
  {
   "cell_type": "code",
   "execution_count": 1,
   "metadata": {},
   "outputs": [],
   "source": [
    "import os\n",
    "import json\n",
    "from data.dataset import NERDataset\n",
    "from models.networks import GlobalContextualDeepTransition\n",
    "import pytorch_lightning as pl\n",
    "from pytorch_lightning.callbacks import ModelCheckpoint, Callback\n",
    "import torch\n",
    "from torch.nn.utils.rnn import PackedSequence, pad_packed_sequence, pack_padded_sequence"
   ]
  },
  {
   "cell_type": "code",
   "execution_count": 2,
   "metadata": {},
   "outputs": [
    {
     "name": "stdout",
     "output_type": "stream",
     "text": [
      "Init model params = {\n",
      "    \"numChars\": 100,\n",
      "    \"charEmbedding\": 128,\n",
      "    \"numWords\": 21388,\n",
      "    \"wordEmbedding\": 300,\n",
      "    \"contextOutputUnits\": 128,\n",
      "    \"contextTransitionNumber\": 4,\n",
      "    \"encoderUnits\": 256,\n",
      "    \"decoderUnits\": 256,\n",
      "    \"transitionNumber\": 4,\n",
      "    \"numTags\": 17\n",
      "}\n"
     ]
    }
   ],
   "source": [
    "with open('config.json', 'r') as file:\n",
    "    kwargs = json.load(file)\n",
    "print(\"Init model params =\", json.dumps(kwargs, indent=4))\n",
    "model = GlobalContextualDeepTransition(**kwargs)"
   ]
  },
  {
   "cell_type": "code",
   "execution_count": 3,
   "metadata": {},
   "outputs": [
    {
     "name": "stdout",
     "output_type": "stream",
     "text": [
      "Trainable parameters: 7,443,797\n"
     ]
    }
   ],
   "source": [
    "numParams = sum(p.numel() for p in model.parameters() if p.requires_grad)\n",
    "print(f\"Trainable parameters: {numParams:,}\") # 7,443,753"
   ]
  },
  {
   "cell_type": "code",
   "execution_count": 4,
   "metadata": {},
   "outputs": [],
   "source": [
    "base = 'data/conll03'\n",
    "sourceName = f'{base}/eng.train.src'\n",
    "targetName = f'{base}/eng.train.trg'\n",
    "gloveFile = f'{base}/trimmed.300d.Cased.txt'\n",
    "symbFile = f'{base}/sym.glove'\n",
    "data = NERDataset(sourceName, targetName, gloveFile, symbFile)\n",
    "loader = data.getLoader(10, shuffle=False)\n",
    "batch = next(iter(loader))"
   ]
  },
  {
   "cell_type": "code",
   "execution_count": 5,
   "metadata": {},
   "outputs": [
    {
     "name": "stdout",
     "output_type": "stream",
     "text": [
      "3.008681297302246\n"
     ]
    }
   ],
   "source": [
    "with torch.no_grad():\n",
    "    loss = model.training_step(batch, 0)\n",
    "    print(loss.item())"
   ]
  },
  {
   "cell_type": "code",
   "execution_count": 9,
   "metadata": {},
   "outputs": [],
   "source": [
    "import torch.nn.functional as F\n",
    "\n",
    "class LabelSmoothingLoss(torch.nn.Module):\n",
    "    def __init__(self, smoothing: float = 0.1, reduction=\"mean\", weight=None):\n",
    "        super(LabelSmoothingLoss, self).__init__()\n",
    "        self.epsilon = smoothing\n",
    "        self.reduction = reduction\n",
    "        self.weight = weight\n",
    "\n",
    "    def reduce_loss(self, loss):\n",
    "        if self.reduction == \"mean\":\n",
    "            return loss.mean()\n",
    "        elif self.reduction == \"sum\":\n",
    "            return loss.sum()\n",
    "        else:\n",
    "            return loss\n",
    "\n",
    "    def linear_combination(self, x, y):\n",
    "        return self.epsilon * x + (1 - self.epsilon) * y\n",
    "\n",
    "    def forward(self, preds, target):\n",
    "        if self.weight is not None:\n",
    "            self.weight = self.weight.to(preds.device)\n",
    "\n",
    "        if self.training:\n",
    "            n = preds.size(-1)\n",
    "            log_preds = F.log_softmax(preds, dim=-1)\n",
    "            loss = self.reduce_loss(-log_preds.sum(dim=-1))\n",
    "            nll = F.nll_loss(\n",
    "                log_preds, target, reduction=self.reduction, weight=self.weight\n",
    "            )\n",
    "            return self.linear_combination(loss / n, nll)\n",
    "        else:\n",
    "            return torch.nn.functional.cross_entropy(preds, target, weight=self.weight)"
   ]
  },
  {
   "cell_type": "code",
   "execution_count": 11,
   "metadata": {},
   "outputs": [
    {
     "name": "stdout",
     "output_type": "stream",
     "text": [
      "0.0\n",
      "0.0\n",
      "0.0\n",
      "0.0\n",
      "0.0\n",
      "0.0\n",
      "0.0\n",
      "0.0\n"
     ]
    }
   ],
   "source": [
    "fn = LabelSmoothingLoss()\n",
    "for i, batch in enumerate(loader):\n",
    "    with torch.no_grad():\n",
    "        words, chars, charMask, targets = batch\n",
    "\n",
    "        # compute the global representation and concat with word and char representations\n",
    "        wcg = model.contextEncoder(words, chars, charMask)\n",
    "\n",
    "        # encode concaatentated input and decode logits using sequence labeller\n",
    "        logits = model.sequenceLabeller.enforced_logits(wcg, targets)\n",
    "\n",
    "        loss = model.smoothingLoss(logits.data, targets.data)\n",
    "        \n",
    "        other = fn(logits.data, targets.data)\n",
    "        print(loss.item() - other.item())\n",
    "    if i==7:\n",
    "        break"
   ]
  }
 ],
 "metadata": {
  "kernelspec": {
   "display_name": "Python 3",
   "language": "python",
   "name": "python3"
  },
  "language_info": {
   "codemirror_mode": {
    "name": "ipython",
    "version": 3
   },
   "file_extension": ".py",
   "mimetype": "text/x-python",
   "name": "python",
   "nbconvert_exporter": "python",
   "pygments_lexer": "ipython3",
   "version": "3.7.7"
  }
 },
 "nbformat": 4,
 "nbformat_minor": 4
}
