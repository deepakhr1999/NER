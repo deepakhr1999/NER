{
 "cells": [
  {
   "cell_type": "code",
   "execution_count": 1,
   "metadata": {},
   "outputs": [],
   "source": [
    "import os\n",
    "import pandas as pd\n",
    "import scripts.test as tester"
   ]
  },
  {
   "cell_type": "code",
   "execution_count": 4,
   "metadata": {},
   "outputs": [
    {
     "name": "stdout",
     "output_type": "stream",
     "text": [
      "Init loader success!\n"
     ]
    }
   ],
   "source": [
    "base = 'data/conll03'\n",
    "ckptBase = 'lightning_logs/remainder/'\n",
    "ckpt = os.listdir(ckptBase)[0]\n",
    "ckpt = os.path.join(ckptBase, ckpt)\n",
    "parser = tester.getParser()\n",
    "args = parser.parse_args(['--ckpt', ckpt, '--beam', '8', '--notebook', '--root', base])\n",
    "\n",
    "loader, tags = tester.getLoader(args)\n",
    "print(\"Init loader success!\")"
   ]
  },
  {
   "cell_type": "code",
   "execution_count": 5,
   "metadata": {},
   "outputs": [
    {
     "name": "stdout",
     "output_type": "stream",
     "text": [
      "File exists, reading the file\n"
     ]
    },
    {
     "data": {
      "application/vnd.jupyter.widget-view+json": {
       "model_id": "30a3b33bcb2f4239bf64ddc8559744cd",
       "version_major": 2,
       "version_minor": 0
      },
      "text/plain": [
       "HBox(children=(FloatProgress(value=0.0, description='Beam=8 ckpt=ckpt-505', max=13.0, style=ProgressStyle(desc…"
      ]
     },
     "metadata": {},
     "output_type": "display_data"
    },
    {
     "name": "stdout",
     "output_type": "stream",
     "text": [
      "\n"
     ]
    },
    {
     "data": {
      "application/vnd.jupyter.widget-view+json": {
       "model_id": "a3a448b66ec847df93274c9c3b80e517",
       "version_major": 2,
       "version_minor": 0
      },
      "text/plain": [
       "HBox(children=(FloatProgress(value=0.0, description='Beam=8 ckpt=ckpt-510', max=13.0, style=ProgressStyle(desc…"
      ]
     },
     "metadata": {},
     "output_type": "display_data"
    },
    {
     "name": "stdout",
     "output_type": "stream",
     "text": [
      "\n"
     ]
    },
    {
     "data": {
      "application/vnd.jupyter.widget-view+json": {
       "model_id": "2bbc789fb14c4e328d0a33551f1f04f4",
       "version_major": 2,
       "version_minor": 0
      },
      "text/plain": [
       "HBox(children=(FloatProgress(value=0.0, description='Beam=8 ckpt=ckpt-515', max=13.0, style=ProgressStyle(desc…"
      ]
     },
     "metadata": {},
     "output_type": "display_data"
    },
    {
     "name": "stdout",
     "output_type": "stream",
     "text": [
      "\n"
     ]
    },
    {
     "data": {
      "application/vnd.jupyter.widget-view+json": {
       "model_id": "44f016e853374e7caca2de33796c2322",
       "version_major": 2,
       "version_minor": 0
      },
      "text/plain": [
       "HBox(children=(FloatProgress(value=0.0, description='Beam=8 ckpt=ckpt-520', max=13.0, style=ProgressStyle(desc…"
      ]
     },
     "metadata": {},
     "output_type": "display_data"
    },
    {
     "name": "stdout",
     "output_type": "stream",
     "text": [
      "\n"
     ]
    },
    {
     "data": {
      "application/vnd.jupyter.widget-view+json": {
       "model_id": "8a484aa762e94f04b53647e2df1eb6b7",
       "version_major": 2,
       "version_minor": 0
      },
      "text/plain": [
       "HBox(children=(FloatProgress(value=0.0, description='Beam=8 ckpt=ckpt-525', max=13.0, style=ProgressStyle(desc…"
      ]
     },
     "metadata": {},
     "output_type": "display_data"
    },
    {
     "name": "stdout",
     "output_type": "stream",
     "text": [
      "\n"
     ]
    }
   ],
   "source": [
    "# setup the metricfile\n",
    "metricFile = os.path.join(base, f'{args.type}_beam{args.beam}.csv')\n",
    "cols = 'ckpt acc prec recall f1'.split()\n",
    "if os.path.exists(metricFile):\n",
    "    print(\"File exists, reading the file\")\n",
    "    frame = pd.read_csv(metricFile)\n",
    "    frame.head()\n",
    "else:\n",
    "    print(\"Creating new frame\")\n",
    "    frame = pd.DataFrame({col:[] for col in cols})\n",
    "    frame.to_csv(metricFile, index=False)\n",
    "\n",
    "for ckpt in os.listdir(ckptBase):\n",
    "    args.ckpt = os.path.join(ckptBase, ckpt)\n",
    "    if ckpt not in list(frame.ckpt):\n",
    "        acc, prec, rec, f1 = tester.main(args, loader, tags)\n",
    "        vals = [ckpt, acc, prec, rec, f1]\n",
    "        frame = frame.append({k:v for k, v in zip(cols, vals)}, ignore_index=True)\n",
    "        frame.to_csv(metricFile, index=False)"
   ]
  },
  {
   "cell_type": "code",
   "execution_count": null,
   "metadata": {},
   "outputs": [],
   "source": []
  }
 ],
 "metadata": {
  "kernelspec": {
   "display_name": "Python 3",
   "language": "python",
   "name": "python3"
  },
  "language_info": {
   "codemirror_mode": {
    "name": "ipython",
    "version": 3
   },
   "file_extension": ".py",
   "mimetype": "text/x-python",
   "name": "python",
   "nbconvert_exporter": "python",
   "pygments_lexer": "ipython3",
   "version": "3.7.7"
  }
 },
 "nbformat": 4,
 "nbformat_minor": 4
}
