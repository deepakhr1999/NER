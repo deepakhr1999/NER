{
 "cells": [
  {
   "cell_type": "code",
   "execution_count": 1,
   "metadata": {},
   "outputs": [],
   "source": [
    "import os\n",
    "import pandas as pd\n",
    "import scripts.test as tester"
   ]
  },
  {
   "cell_type": "code",
   "execution_count": 2,
   "metadata": {},
   "outputs": [
    {
     "name": "stdout",
     "output_type": "stream",
     "text": [
      "Init loader success!\n"
     ]
    }
   ],
   "source": [
    "base = 'data/conll03'\n",
    "ckptBase = 'lightning_logs/backup/'\n",
    "ckpt = os.listdir(ckptBase)[0]\n",
    "ckpt = os.path.join(ckptBase, ckpt)\n",
    "parser = tester.getParser()\n",
    "args = parser.parse_args(['--ckpt', ckpt, '--beam', '8', '--notebook', '--root', base])\n",
    "\n",
    "loader, tags = tester.getLoader(args)\n",
    "print(\"Init loader success!\")"
   ]
  },
  {
   "cell_type": "code",
   "execution_count": 4,
   "metadata": {},
   "outputs": [
    {
     "name": "stdout",
     "output_type": "stream",
     "text": [
      "File exists, reading the file\n"
     ]
    },
    {
     "name": "stderr",
     "output_type": "stream",
     "text": [
      "/data/home/deepakh/miniconda3/envs/train_ner/lib/python3.8/site-packages/pytorch_lightning/utilities/cloud_io.py:32: FutureWarning: You are using `torch.load` with `weights_only=False` (the current default value), which uses the default pickle module implicitly. It is possible to construct malicious pickle data which will execute arbitrary code during unpickling (See https://github.com/pytorch/pytorch/blob/main/SECURITY.md#untrusted-models for more details). In a future release, the default value for `weights_only` will be flipped to `True`. This limits the functions that could be executed during unpickling. Arbitrary objects will no longer be allowed to be loaded via this mode unless they are explicitly allowlisted by the user via `torch.serialization.add_safe_globals`. We recommend you start setting `weights_only=True` for any use case where you don't have full control of the loaded file. Please open an issue on GitHub for any issues related to this experimental feature.\n",
      "  return torch.load(f, map_location=map_location)\n"
     ]
    },
    {
     "data": {
      "application/vnd.jupyter.widget-view+json": {
       "model_id": "b6ce371dc6364ef185dd972eea4e890a",
       "version_major": 2,
       "version_minor": 0
      },
      "text/plain": [
       "Beam=8 ckpt=ckpt-small00:   0%|          | 0/13 [00:00<?, ?it/s]"
      ]
     },
     "metadata": {},
     "output_type": "display_data"
    },
    {
     "name": "stderr",
     "output_type": "stream",
     "text": [
      "/data/home/deepakh/miniconda3/envs/train_ner/lib/python3.8/site-packages/pytorch_lightning/utilities/cloud_io.py:32: FutureWarning: You are using `torch.load` with `weights_only=False` (the current default value), which uses the default pickle module implicitly. It is possible to construct malicious pickle data which will execute arbitrary code during unpickling (See https://github.com/pytorch/pytorch/blob/main/SECURITY.md#untrusted-models for more details). In a future release, the default value for `weights_only` will be flipped to `True`. This limits the functions that could be executed during unpickling. Arbitrary objects will no longer be allowed to be loaded via this mode unless they are explicitly allowlisted by the user via `torch.serialization.add_safe_globals`. We recommend you start setting `weights_only=True` for any use case where you don't have full control of the loaded file. Please open an issue on GitHub for any issues related to this experimental feature.\n",
      "  return torch.load(f, map_location=map_location)\n"
     ]
    },
    {
     "data": {
      "application/vnd.jupyter.widget-view+json": {
       "model_id": "95bdaae921674f2ca4d4143ac4b381a4",
       "version_major": 2,
       "version_minor": 0
      },
      "text/plain": [
       "Beam=8 ckpt=ckpt-small05:   0%|          | 0/13 [00:00<?, ?it/s]"
      ]
     },
     "metadata": {},
     "output_type": "display_data"
    },
    {
     "name": "stderr",
     "output_type": "stream",
     "text": [
      "/data/home/deepakh/miniconda3/envs/train_ner/lib/python3.8/site-packages/pytorch_lightning/utilities/cloud_io.py:32: FutureWarning: You are using `torch.load` with `weights_only=False` (the current default value), which uses the default pickle module implicitly. It is possible to construct malicious pickle data which will execute arbitrary code during unpickling (See https://github.com/pytorch/pytorch/blob/main/SECURITY.md#untrusted-models for more details). In a future release, the default value for `weights_only` will be flipped to `True`. This limits the functions that could be executed during unpickling. Arbitrary objects will no longer be allowed to be loaded via this mode unless they are explicitly allowlisted by the user via `torch.serialization.add_safe_globals`. We recommend you start setting `weights_only=True` for any use case where you don't have full control of the loaded file. Please open an issue on GitHub for any issues related to this experimental feature.\n",
      "  return torch.load(f, map_location=map_location)\n"
     ]
    },
    {
     "data": {
      "application/vnd.jupyter.widget-view+json": {
       "model_id": "e7ec224419e44a9888c4116359b66e64",
       "version_major": 2,
       "version_minor": 0
      },
      "text/plain": [
       "Beam=8 ckpt=ckpt-small10:   0%|          | 0/13 [00:00<?, ?it/s]"
      ]
     },
     "metadata": {},
     "output_type": "display_data"
    }
   ],
   "source": [
    "# setup the metricfile\n",
    "metricFile = os.path.join(base, f'{args.type}_beam{args.beam}.csv')\n",
    "cols = 'ckpt acc prec recall f1'.split()\n",
    "if os.path.exists(metricFile):\n",
    "    print(\"File exists, reading the file\")\n",
    "    frame = pd.read_csv(metricFile)\n",
    "    frame.head()\n",
    "else:\n",
    "    print(\"Creating new frame\")\n",
    "    frame = pd.DataFrame({col:[] for col in cols})\n",
    "    frame.to_csv(metricFile, index=False)\n",
    "\n",
    "for ckpt in os.listdir(ckptBase):\n",
    "    args.ckpt = os.path.join(ckptBase, ckpt)\n",
    "    if ckpt not in list(frame.ckpt):\n",
    "        acc, prec, rec, f1 = tester.main(args, loader, tags)\n",
    "        vals = [ckpt, acc, prec, rec, f1]\n",
    "        frame = frame._append({k:v for k, v in zip(cols, vals)}, ignore_index=True)\n",
    "        frame.to_csv(metricFile, index=False)"
   ]
  },
  {
   "cell_type": "code",
   "execution_count": null,
   "metadata": {},
   "outputs": [],
   "source": []
  }
 ],
 "metadata": {
  "kernelspec": {
   "display_name": "Python 3",
   "language": "python",
   "name": "python3"
  },
  "language_info": {
   "codemirror_mode": {
    "name": "ipython",
    "version": 3
   },
   "file_extension": ".py",
   "mimetype": "text/x-python",
   "name": "python",
   "nbconvert_exporter": "python",
   "pygments_lexer": "ipython3",
   "version": "3.8.19"
  }
 },
 "nbformat": 4,
 "nbformat_minor": 4
}
